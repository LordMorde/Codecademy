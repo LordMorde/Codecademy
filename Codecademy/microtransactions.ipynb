{
 "cells": [
  {
   "cell_type": "markdown",
   "metadata": {},
   "source": [
    "# Project: Hypothesis Testing for Microtransactions\n",
    "Brian is a Product Manager at FarmBurg, a company that makes a farming simulation social network game.  In the FarmBurg game, you can plow, plant, and harvest different crops.\n",
    "\n",
    "Today, you will be acting as Brian's data analyst for an A/B Test that he has been conducting."
   ]
  },
  {
   "cell_type": "markdown",
   "metadata": {},
   "source": [
    "## Part 1: Testing for Significant Difference"
   ]
  },
  {
   "cell_type": "markdown",
   "metadata": {},
   "source": [
    "Start by importing the following modules that you'll need for this project:\n",
    "- `pandas` as `pd`"
   ]
  },
  {
   "cell_type": "code",
   "execution_count": 1,
   "metadata": {
    "collapsed": true
   },
   "outputs": [],
   "source": [
    "import pandas as pd"
   ]
  },
  {
   "cell_type": "markdown",
   "metadata": {},
   "source": [
    "Brian tells you that he ran an A/B test with three different groups: A, B, and C.  You're kind of busy today, so you don't ask too many questions about the differences between A, B, and C.  Maybe they were shown three different versions of an ad.  Who cares?\n",
    "\n",
    "(HINT: you will care later)\n",
    "\n",
    "Brian gives you a CSV of results called `clicks.csv`.  It has the following columns:\n",
    "- `user_id`: a unique id for each visitor to the FarmBerg site\n",
    "- `ab_test_group`: either `A`, `B`, or `C` depending on which group the visitor was assigned to\n",
    "- `click_day`: only filled in *if* the user clicked on a link to purchase\n",
    "\n",
    "Load `clicks.csv` into the variable `df`."
   ]
  },
  {
   "cell_type": "code",
   "execution_count": 18,
   "metadata": {
    "collapsed": false
   },
   "outputs": [
    {
     "name": "stdout",
     "output_type": "stream",
     "text": [
      "                                user_id group click_day\n",
      "0  8e27bf9a-5b6e-41ed-801a-a59979c0ca98     A       NaN\n",
      "1  eb89e6f0-e682-4f79-99b1-161cc1c096f1     A       NaN\n",
      "2  7119106a-7a95-417b-8c4c-092c12ee5ef7     A       NaN\n",
      "3  e53781ff-ff7a-4fcd-af1a-adba02b2b954     A       NaN\n",
      "4  02d48cf1-1ae6-40b3-9d8b-8208884a0904     A  Saturday\n",
      "5  5a3ca2d6-25d5-4909-8f07-519f71ee55e8     A       NaN\n",
      "6  6b929341-1336-4c34-965b-92e368ab160b     A       NaN\n",
      "7  90b0a07b-e20e-4e0a-872e-5cc303c5676b     A       NaN\n",
      "8  4b16c922-b2ab-48a8-885c-713ebf0ae159     A       NaN\n",
      "9  5eb5fc03-fbda-4149-b909-4f5fbc6b152f     A       NaN\n"
     ]
    }
   ],
   "source": [
    "df = pd.read_csv('clicks.csv')\n",
    "print(df.head(10))"
   ]
  },
  {
   "cell_type": "markdown",
   "metadata": {},
   "source": [
    "Define a new column called `is_purchase` which is `Purchase` if `click_day` is not `None` and `No Purchase` if `click_day` is `None`.  This will tell us if each visitor clicked on the Purchase link."
   ]
  },
  {
   "cell_type": "code",
   "execution_count": 21,
   "metadata": {
    "collapsed": false
   },
   "outputs": [
    {
     "name": "stdout",
     "output_type": "stream",
     "text": [
      "                                 user_id group  click_day  is_purchase\n",
      "0   8e27bf9a-5b6e-41ed-801a-a59979c0ca98     A        NaN  No Purchase\n",
      "1   eb89e6f0-e682-4f79-99b1-161cc1c096f1     A        NaN  No Purchase\n",
      "2   7119106a-7a95-417b-8c4c-092c12ee5ef7     A        NaN  No Purchase\n",
      "3   e53781ff-ff7a-4fcd-af1a-adba02b2b954     A        NaN  No Purchase\n",
      "4   02d48cf1-1ae6-40b3-9d8b-8208884a0904     A   Saturday     Purchase\n",
      "5   5a3ca2d6-25d5-4909-8f07-519f71ee55e8     A        NaN  No Purchase\n",
      "6   6b929341-1336-4c34-965b-92e368ab160b     A        NaN  No Purchase\n",
      "7   90b0a07b-e20e-4e0a-872e-5cc303c5676b     A        NaN  No Purchase\n",
      "8   4b16c922-b2ab-48a8-885c-713ebf0ae159     A        NaN  No Purchase\n",
      "9   5eb5fc03-fbda-4149-b909-4f5fbc6b152f     A        NaN  No Purchase\n",
      "10  389ff492-4635-4535-8e42-685f771fccb1     A        NaN  No Purchase\n",
      "11  1d25885b-56c7-4fdd-bee8-6348c1386bf0     A   Thursday     Purchase\n",
      "12  4546807b-8211-4e7b-94cf-4f9c879e284b     A        NaN  No Purchase\n",
      "13  c447f7f4-a419-41c6-af31-0a17f7943816     A        NaN  No Purchase\n",
      "14  e75754d9-9342-4f1f-84e1-75c340ef78b2     A        NaN  No Purchase\n",
      "15  0d38042c-2296-4526-b21c-6b00805688d4     A     Friday     Purchase\n",
      "16  a54eeb29-1406-4032-bc2c-7d8166e4641a     A        NaN  No Purchase\n",
      "17  b54a48e0-ae75-44db-8421-d40cfa5cc3a7     A        NaN  No Purchase\n",
      "18  1a2ad0c4-3cb0-4346-9f77-6e42082a7433     A  Wednesday     Purchase\n",
      "19  512ab2bb-0c2e-46a1-9f34-40b3d2ecee1a     A        NaN  No Purchase\n"
     ]
    }
   ],
   "source": [
    "#engineer new feature based on the conditional entry of click_day\n",
    "#if click_day = NaN, then is_purchase = No Purchase and else Purchase\n",
    "#incorporate supporting function isnull() to test for input of click_day\n",
    "\n",
    "df['is_purchase'] = 'Purchase'\n",
    "df.loc[df['click_day'].isnull(), 'is_purchase'] = 'No Purchase'\n",
    "print(df.head(20))"
   ]
  },
  {
   "cell_type": "markdown",
   "metadata": {
    "collapsed": true
   },
   "source": [
    "We want to count the number of users who made a purchase from each group.  Use `groupby` to count the number of `Purchase` and `No Purchase` from each `group`.  Save your answer to the variable `purchase_counts`.\n",
    "\n",
    "**Hint**: Group by `group` and `is_purchase` and the function `count` on the column `user_id`."
   ]
  },
  {
   "cell_type": "code",
   "execution_count": 23,
   "metadata": {
    "collapsed": false
   },
   "outputs": [
    {
     "name": "stdout",
     "output_type": "stream",
     "text": [
      "group  is_purchase\n",
      "A      No Purchase    1350\n",
      "       Purchase        316\n",
      "B      No Purchase    1483\n",
      "       Purchase        183\n",
      "C      No Purchase    1583\n",
      "       Purchase         83\n",
      "Name: user_id, dtype: int64\n"
     ]
    }
   ],
   "source": [
    "#count purchase totals by group\n",
    "\n",
    "purchase_counts = df.groupby(['group', 'is_purchase'])['user_id'].count()\n",
    "print(purchase_counts)"
   ]
  },
  {
   "cell_type": "markdown",
   "metadata": {
    "collapsed": true
   },
   "source": [
    "This data is *categorical* and there are *more than 2* conditions, so we'll want to use a chi-squared test to see if there is a significant difference between the three conditions.\n",
    "\n",
    "Start by filling in the contingency table below with the correct values:\n",
    "```py\n",
    "contingency = [[groupA_purchases, groupA_not_purchases],\n",
    "               [groupB_purchases, groupB_not_purchases],\n",
    "               [groupC_purchases, groupC_not_purchases]]\n",
    "```"
   ]
  },
  {
   "cell_type": "code",
   "execution_count": 25,
   "metadata": {
    "collapsed": true
   },
   "outputs": [],
   "source": [
    "contingency = [[316, 1350], [183, 1483], [83, 1583]]"
   ]
  },
  {
   "cell_type": "markdown",
   "metadata": {},
   "source": [
    "Now import the function `chi2_contingency` from `scipy.stats` and perform the chi-squared test.\n",
    "\n",
    "Recall that the *p-value* is the second output of `chi2_contingency`."
   ]
  },
  {
   "cell_type": "code",
   "execution_count": 26,
   "metadata": {
    "collapsed": false
   },
   "outputs": [],
   "source": [
    "from scipy.stats import chi2_contingency"
   ]
  },
  {
   "cell_type": "code",
   "execution_count": 28,
   "metadata": {
    "collapsed": false
   },
   "outputs": [
    {
     "name": "stdout",
     "output_type": "stream",
     "text": [
      "p-value:  2.41262135467e-35\n"
     ]
    }
   ],
   "source": [
    "#test for independence of purchase counts by group\n",
    "#p-value very close to zero indicates significance of results\n",
    "\n",
    "chi2, p, deg, x = chi2_contingency(contingency)\n",
    "\n",
    "print('p-value: ', p)"
   ]
  },
  {
   "cell_type": "markdown",
   "metadata": {},
   "source": [
    "Great! It looks like a significantly greater portion of users from Group A made a purchase."
   ]
  },
  {
   "cell_type": "markdown",
   "metadata": {},
   "source": [
    "## Part 2: Testing for Exceeding a Goal\n",
    "\n",
    "Your day is a little less busy than you expected, so you decide to ask Brian about his test.\n",
    "\n",
    "**You**: Hey Brian! What was that test you were running anyway?\n",
    "\n",
    "**Brian**: It was awesome! We are trying to get users to purchase a small FarmBurg upgrade package.  It's called a microtransaction.  We're not sure how much to charge for it, so we tested three different price points: \\$0.99, \\$1.99, and \\$4.99.  It looks like significantly more people bought the upgrade package for \\$0.99, so I guess that's what we'll charge.\n",
    "\n",
    "**You**: Oh no! I should have asked you this before we did that chi-squared test.  I don't think that this was the right test at all.  It's true that more people wanted purchase the upgrade at \\$0.99; you probably expected that.  What we really want to know is if each price point allows us to make enough money that we can exceed some target goal.  Brian, how much do you think it cost to build this feature?\n",
    "\n",
    "**Brian**: Hmm.  I guess that we need to generate a minimum of $1000 per week in order to justify this project.\n",
    "\n",
    "**You**: We have some work to do!"
   ]
  },
  {
   "cell_type": "markdown",
   "metadata": {},
   "source": [
    "How many visitors came to the site this week?\n",
    "\n",
    "Hint: Look at the length of `df`."
   ]
  },
  {
   "cell_type": "code",
   "execution_count": 29,
   "metadata": {
    "collapsed": false
   },
   "outputs": [
    {
     "name": "stdout",
     "output_type": "stream",
     "text": [
      "number of visitors:  4998\n"
     ]
    }
   ],
   "source": [
    "print('number of visitors: ', len(df))"
   ]
  },
  {
   "cell_type": "markdown",
   "metadata": {},
   "source": [
    "Let's assume that this is how many visitors we generally get each week.  Given that, calculate the percent of visitors who would need to purchase the upgrade package at each price point (\\$0.99, \\$1.99, \\$4.99) in order to generate \\$1000 per week."
   ]
  },
  {
   "cell_type": "code",
   "execution_count": 39,
   "metadata": {
    "collapsed": false
   },
   "outputs": [
    {
     "name": "stdout",
     "output_type": "stream",
     "text": [
      "people needed for $0.99 upgrade:  1010.1010101010102\n",
      "percent ratio needed for $0.99 upgrade:  0.20210104243717691\n"
     ]
    }
   ],
   "source": [
    "# Calculate the number of people who would need to purchase a $0.99 upgrade in order to generate $1000.\n",
    "# Then divide by the number of people who visit the site each week.\n",
    "\n",
    "print('people needed for $0.99 upgrade: ', 1000/0.99)\n",
    "print('percent ratio needed for $0.99 upgrade: ', (1000/0.99)/4998)"
   ]
  },
  {
   "cell_type": "code",
   "execution_count": 40,
   "metadata": {
    "collapsed": false
   },
   "outputs": [
    {
     "name": "stdout",
     "output_type": "stream",
     "text": [
      "people needed for $1.99 upgrade:  502.51256281407035\n",
      "percent ratio needed for $1.99 upgrade:  0.10054272965467594\n"
     ]
    }
   ],
   "source": [
    "# Calculate the number of people who would need to purchase a $1.99 upgrade in order to generate $1000.\n",
    "# Then divide by the number of people who visit the site each week.\n",
    "\n",
    "print('people needed for $1.99 upgrade: ', 1000/1.99)\n",
    "print('percent ratio needed for $1.99 upgrade: ', (1000/1.99)/4998)"
   ]
  },
  {
   "cell_type": "code",
   "execution_count": 41,
   "metadata": {
    "collapsed": false
   },
   "outputs": [
    {
     "name": "stdout",
     "output_type": "stream",
     "text": [
      "people needed for $4.99 upgrade:  200.40080160320642\n",
      "percent ratio needed for $4.99 upgrade:  0.040096198800161346\n"
     ]
    }
   ],
   "source": [
    "# Calculate the number of people who would need to purchase a $1.99 upgrade in order to generate $1000.\n",
    "# Then divide by the number of people who visit the site each week.\n",
    "\n",
    "print('people needed for $4.99 upgrade: ', 1000/4.99)\n",
    "print('percent ratio needed for $4.99 upgrade: ', (1000/4.99)/4998)"
   ]
  },
  {
   "cell_type": "markdown",
   "metadata": {},
   "source": [
    "Note that you need a smaller percentage of purchases for higher price points.\n",
    "\n",
    "Now, for each group, perform a binomial test using `binom_test` from `scipy.stats`.\n",
    "- `x` will be the number of purchases for that group\n",
    "- `n` will be the total number of visitors assigned to that group\n",
    "- `p` will be the target percent of purchases for that price point (calculated above)\n",
    "\n",
    "Recall that:\n",
    "- Group `A` is the \\$0.99 price point\n",
    "- Group `B` is the \\$1.99 price point\n",
    "- Group `C` is the \\$4.99 price point"
   ]
  },
  {
   "cell_type": "code",
   "execution_count": 35,
   "metadata": {
    "collapsed": true
   },
   "outputs": [],
   "source": [
    "# import the binomial test from scipy.stats here\n",
    "\n",
    "from scipy.stats import binom_test"
   ]
  },
  {
   "cell_type": "code",
   "execution_count": 42,
   "metadata": {
    "collapsed": false
   },
   "outputs": [
    {
     "name": "stdout",
     "output_type": "stream",
     "text": [
      "p-value for group a at $0.99:  0.21112872994\n"
     ]
    }
   ],
   "source": [
    "# Test group A here\n",
    "\n",
    "p_a = binom_test(316, 1666, 0.20210104243717691)\n",
    "print('p-value for group a at $0.99: ', p_a)"
   ]
  },
  {
   "cell_type": "code",
   "execution_count": 43,
   "metadata": {
    "collapsed": false
   },
   "outputs": [
    {
     "name": "stdout",
     "output_type": "stream",
     "text": [
      "p-value for group b at $1.99:  0.206602092466\n"
     ]
    }
   ],
   "source": [
    "# Test group B here\n",
    "\n",
    "p_b = binom_test(183, 1666, 0.10054272965467594)\n",
    "print('p-value for group b at $1.99: ', p_b)"
   ]
  },
  {
   "cell_type": "code",
   "execution_count": 44,
   "metadata": {
    "collapsed": false
   },
   "outputs": [
    {
     "name": "stdout",
     "output_type": "stream",
     "text": [
      "p-value for group c at $4.99:  0.0456236724772\n"
     ]
    }
   ],
   "source": [
    "# Test group C here\n",
    "\n",
    "p_c = binom_test(83, 1666, 0.040096198800161346)\n",
    "print('p-value for group c at $4.99: ', p_c)"
   ]
  },
  {
   "cell_type": "markdown",
   "metadata": {},
   "source": [
    "If any of the groups passed the binomial test with $p < 0.05$, then we can be confident that enough people will buy the upgrade package at that price point to justify the feature.\n",
    "\n",
    "Which price point should Brian go with?  Did this surprise you?"
   ]
  },
  {
   "cell_type": "markdown",
   "metadata": {},
   "source": [
    "Given the ratio thresholds for each group's price point, results indicate a price of $4.99 is justified for the upgrade package.\n",
    "A quick comparison of the ratio of purchases/total to the threshold value automatically eliminated $0.99 as a price point. But\n",
    "I was surprised to observe group c as the only group to achieve an accepting price point. As a result, Brian should go with\n",
    "$4.99 as the price for the microtransaction."
   ]
  }
 ],
 "metadata": {
  "kernelspec": {
   "display_name": "Python 3",
   "language": "python",
   "name": "python3"
  },
  "language_info": {
   "codemirror_mode": {
    "name": "ipython",
    "version": 3
   },
   "file_extension": ".py",
   "mimetype": "text/x-python",
   "name": "python",
   "nbconvert_exporter": "python",
   "pygments_lexer": "ipython3",
   "version": "3.6.0"
  }
 },
 "nbformat": 4,
 "nbformat_minor": 2
}
